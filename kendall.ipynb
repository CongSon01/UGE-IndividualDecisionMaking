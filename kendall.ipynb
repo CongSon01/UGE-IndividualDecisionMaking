{
 "cells": [
  {
   "cell_type": "code",
   "execution_count": 20,
   "metadata": {},
   "outputs": [],
   "source": [
    "import os\n",
    "import pandas as pd\n",
    "from scipy.stats import kendalltau\n",
    "\n",
    "def compute_kendall_for_all_methods():\n",
    "    \"\"\"\n",
    "    Computes Kendall’s Tau correlation coefficient between two ranking results \n",
    "    for different decision-making methods.\n",
    "    \"\"\"\n",
    "    # List of ranking methods to compare\n",
    "    methods = [\"WSM\", \"WPM\", \"WASPAS\", \"TOPSIS\", \"VIKOR\", \"PROMETHEE\"]\n",
    "    \n",
    "    results = {}\n",
    "    \n",
    "    for method in methods:\n",
    "        # Define filenames for the two ranking versions: ahp_... and ahp2_...\n",
    "        file1 = f\"static/results/ahp_{method}_full_ranking.xlsx\"\n",
    "        file2 = f\"static/results/ahp2_{method}_full_ranking.xlsx\"\n",
    "        \n",
    "        # Check if both files exist\n",
    "        if not (os.path.exists(file1) and os.path.exists(file2)):\n",
    "            print(f\"[Warning] One of the files for {method} does not exist. Skipping...\")\n",
    "            continue\n",
    "        \n",
    "        # Read both Excel files\n",
    "        df1 = pd.read_excel(file1)\n",
    "        df2 = pd.read_excel(file2)\n",
    "        \n",
    "        # Create a dictionary of rankings from each file (0th row = rank 1, 1st row = rank 2, etc.)\n",
    "        rank1 = {row[\"model_name\"]: i + 1 for i, row in df1.iterrows()}\n",
    "        rank2 = {row[\"model_name\"]: i + 1 for i, row in df2.iterrows()}\n",
    "        \n",
    "        # Identify common models in both rankings\n",
    "        common_models = set(rank1.keys()).intersection(set(rank2.keys()))\n",
    "        \n",
    "        # Extract corresponding rankings\n",
    "        list_rank1 = [rank1[m] for m in common_models]\n",
    "        list_rank2 = [rank2[m] for m in common_models]\n",
    "        \n",
    "        # Compute Kendall’s Tau only if enough data is available\n",
    "        if len(list_rank1) < 2:\n",
    "            print(f\"[Warning] Not enough common models to compute Kendall’s Tau for {method}\")\n",
    "            continue\n",
    "        \n",
    "        tau, p_value = kendalltau(list_rank1, list_rank2)\n",
    "        \n",
    "        results[method] = (tau, p_value)\n",
    "    \n",
    "    return results"
   ]
  },
  {
   "cell_type": "code",
   "execution_count": 21,
   "metadata": {},
   "outputs": [
    {
     "name": "stdout",
     "output_type": "stream",
     "text": [
      "Kendall’s Tau results between ahp1 and ahp2 for each method:\n",
      "  WSM: Tau = 0.9188\n",
      "  WPM: Tau = 0.9493\n",
      "  WASPAS: Tau = 1.0000\n",
      "  TOPSIS: Tau = 0.9599\n",
      "  VIKOR: Tau = 0.8236\n",
      "  PROMETHEE: Tau = 0.9188\n"
     ]
    }
   ],
   "source": [
    "kendall_results = compute_kendall_for_all_methods()\n",
    "print(\"Kendall’s Tau results between ahp1 and ahp2 for each method:\")\n",
    "for method, (tau, pval) in kendall_results.items():\n",
    "    print(f\"  {method}: Tau = {tau:.4f}\")"
   ]
  },
  {
   "cell_type": "code",
   "execution_count": null,
   "metadata": {},
   "outputs": [],
   "source": []
  }
 ],
 "metadata": {
  "kernelspec": {
   "display_name": "Python 3",
   "language": "python",
   "name": "python3"
  },
  "language_info": {
   "codemirror_mode": {
    "name": "ipython",
    "version": 3
   },
   "file_extension": ".py",
   "mimetype": "text/x-python",
   "name": "python",
   "nbconvert_exporter": "python",
   "pygments_lexer": "ipython3",
   "version": "3.10.4"
  }
 },
 "nbformat": 4,
 "nbformat_minor": 2
}
