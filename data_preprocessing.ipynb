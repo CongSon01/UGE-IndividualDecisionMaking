{
 "cells": [
  {
   "cell_type": "code",
   "execution_count": 3,
   "metadata": {},
   "outputs": [],
   "source": [
    "from datetime import datetime\n",
    "import pandas as pd\n",
    "\n",
    "df = pd.read_csv(\"phones_data.csv\")\n",
    "# Task 1: Filter just \"Samsung\" in \"brand_name\"\n",
    "df_filtered = df[df['brand_name'] == 'Samsung']\n",
    "\n",
    "# Task 2: Drop the columns \"#\", \"lowest_price\", \"sellers_amount\"\n",
    "df_filtered = df_filtered.drop(columns=['Unnamed: 0', 'brand_name', 'os', 'lowest_price', 'sellers_amount'])\n",
    "\n",
    "# Task 3: Simplify model_name labels (Remove unnecessary details)\n",
    "# df_filtered['model_name'] = df_filtered['model_name'].str.extract(r'(\\d+\\s?\\w+)')\n",
    "\n",
    "# Task 4: Drop rows with any missing values\n",
    "df_filtered = df_filtered.dropna()\n",
    "\n",
    "# Task 5: Update release_date to the number of days since the release\n",
    "current_date = datetime.now()\n",
    "df_filtered['release_date'] = df_filtered['release_date'].apply(lambda x: (current_date - datetime.strptime(x, \"%m-%Y\")).days)\n",
    "\n",
    "# Display the cleaned and updated dataframe\n",
    "df_filtered.head()\n",
    "\n",
    "output_file_path = 'cleaned_samsung_phones.csv'\n",
    "df_filtered.to_csv(output_file_path, index=False)"
   ]
  },
  {
   "cell_type": "code",
   "execution_count": null,
   "metadata": {},
   "outputs": [],
   "source": []
  }
 ],
 "metadata": {
  "kernelspec": {
   "display_name": "Python 3",
   "language": "python",
   "name": "python3"
  },
  "language_info": {
   "codemirror_mode": {
    "name": "ipython",
    "version": 3
   },
   "file_extension": ".py",
   "mimetype": "text/x-python",
   "name": "python",
   "nbconvert_exporter": "python",
   "pygments_lexer": "ipython3",
   "version": "3.10.4"
  }
 },
 "nbformat": 4,
 "nbformat_minor": 2
}
